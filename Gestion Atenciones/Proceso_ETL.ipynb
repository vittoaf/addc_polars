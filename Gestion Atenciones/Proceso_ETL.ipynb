{
 "cells": [
  {
   "cell_type": "markdown",
   "metadata": {},
   "source": [
    "<h1><center>CASO PRÁCTICO: GESTIÓN DE ATENCIONES</center></h1>"
   ]
  },
  {
   "cell_type": "markdown",
   "metadata": {},
   "source": [
    "### 1. DETALLES GENERALES"
   ]
  },
  {
   "cell_type": "markdown",
   "metadata": {},
   "source": [
    "python -m venv env"
   ]
  },
  {
   "cell_type": "markdown",
   "metadata": {},
   "source": [
    "pip install polars xlsx2csv"
   ]
  },
  {
   "cell_type": "markdown",
   "metadata": {},
   "source": [
    "pip freeze > req"
   ]
  },
  {
   "cell_type": "markdown",
   "metadata": {},
   "source": [
    "### 2. TRANSFORMACIONES A REALIZAR"
   ]
  },
  {
   "cell_type": "code",
   "execution_count": 70,
   "metadata": {},
   "outputs": [],
   "source": [
    "import polars as pl"
   ]
  },
  {
   "cell_type": "code",
   "execution_count": 71,
   "metadata": {},
   "outputs": [
    {
     "data": {
      "text/plain": [
       "polars.config.Config"
      ]
     },
     "execution_count": 71,
     "metadata": {},
     "output_type": "execute_result"
    }
   ],
   "source": [
    "from polars import Config\n",
    "Config.set_fmt_str_lengths(100)"
   ]
  },
  {
   "cell_type": "markdown",
   "metadata": {},
   "source": [
    "#### Importando txt sin encabezado"
   ]
  },
  {
   "cell_type": "code",
   "execution_count": 72,
   "metadata": {},
   "outputs": [
    {
     "data": {
      "text/html": [
       "<div><style>\n",
       ".dataframe > thead > tr,\n",
       ".dataframe > tbody > tr {\n",
       "  text-align: right;\n",
       "  white-space: pre-wrap;\n",
       "}\n",
       "</style>\n",
       "<small>shape: (5, 4)</small><table border=\"1\" class=\"dataframe\"><thead><tr><th>Numero Ticket</th><th>Estado</th><th>Fecha Creacion</th><th>Clasificacion</th></tr><tr><td>str</td><td>str</td><td>date</td><td>i64</td></tr></thead><tbody><tr><td>&quot;WO0000004122687&quot;</td><td>&quot;Cerrado&quot;</td><td>2022-06-01</td><td>3</td></tr><tr><td>&quot;WO0000004122649&quot;</td><td>&quot;Cerrado&quot;</td><td>2022-06-01</td><td>3</td></tr><tr><td>&quot;WO0000004122502&quot;</td><td>&quot;Cerrado&quot;</td><td>2022-06-01</td><td>3</td></tr><tr><td>&quot;WO0000004122513&quot;</td><td>&quot;Cerrado&quot;</td><td>2022-06-01</td><td>3</td></tr><tr><td>&quot;WO0000004122741&quot;</td><td>&quot;Cerrado&quot;</td><td>2022-06-01</td><td>3</td></tr></tbody></table></div>"
      ],
      "text/plain": [
       "shape: (5, 4)\n",
       "┌─────────────────┬─────────┬────────────────┬───────────────┐\n",
       "│ Numero Ticket   ┆ Estado  ┆ Fecha Creacion ┆ Clasificacion │\n",
       "│ ---             ┆ ---     ┆ ---            ┆ ---           │\n",
       "│ str             ┆ str     ┆ date           ┆ i64           │\n",
       "╞═════════════════╪═════════╪════════════════╪═══════════════╡\n",
       "│ WO0000004122687 ┆ Cerrado ┆ 2022-06-01     ┆ 3             │\n",
       "│ WO0000004122649 ┆ Cerrado ┆ 2022-06-01     ┆ 3             │\n",
       "│ WO0000004122502 ┆ Cerrado ┆ 2022-06-01     ┆ 3             │\n",
       "│ WO0000004122513 ┆ Cerrado ┆ 2022-06-01     ┆ 3             │\n",
       "│ WO0000004122741 ┆ Cerrado ┆ 2022-06-01     ┆ 3             │\n",
       "└─────────────────┴─────────┴────────────────┴───────────────┘"
      ]
     },
     "execution_count": 72,
     "metadata": {},
     "output_type": "execute_result"
    }
   ],
   "source": [
    "Tickets_sin_encabezado = pl.read_csv(\n",
    "    source='./Materiales/Tickets/SinEncabezado.txt',\n",
    "    has_header= False,\n",
    "    separator= ';',\n",
    "    schema={\n",
    "        \"Numero Ticket\": pl.Utf8,\n",
    "        \"Estado\": pl.Utf8,\n",
    "        \"Fecha Creacion\" : pl.Date,\n",
    "        \"Clasificacion\" : pl.Int64\n",
    "    },\n",
    "    ignore_errors = True\n",
    ")\n",
    "\n",
    "Tickets_sin_encabezado.head()"
   ]
  },
  {
   "cell_type": "markdown",
   "metadata": {},
   "source": [
    "#### Tickets Historico"
   ]
  },
  {
   "cell_type": "code",
   "execution_count": 73,
   "metadata": {},
   "outputs": [
    {
     "data": {
      "text/html": [
       "<div><style>\n",
       ".dataframe > thead > tr,\n",
       ".dataframe > tbody > tr {\n",
       "  text-align: right;\n",
       "  white-space: pre-wrap;\n",
       "}\n",
       "</style>\n",
       "<small>shape: (5, 7)</small><table border=\"1\" class=\"dataframe\"><thead><tr><th>TicketID</th><th>Ubicacion</th><th>Service Desk</th><th>Estado</th><th>Fecha Creacion</th><th>Fecha Termino</th><th>Fecha Cierre</th></tr><tr><td>str</td><td>str</td><td>str</td><td>str</td><td>date</td><td>date</td><td>date</td></tr></thead><tbody><tr><td>&quot;WO0000004122687&quot;</td><td>&quot;AREQUIPA - 215000&quot;</td><td>&quot;Zona Norte&quot;</td><td>&quot;Cerrado&quot;</td><td>2022-06-01</td><td>2022-06-14</td><td>2022-06-14</td></tr><tr><td>&quot;WO0000004122649&quot;</td><td>&quot;METRO AV. WIESSE - 191106&quot;</td><td>&quot;Zona Centro&quot;</td><td>&quot;Cerrado&quot;</td><td>2022-06-01</td><td>2022-06-17</td><td>2022-06-17</td></tr><tr><td>&quot;WO0000004122502&quot;</td><td>&quot;NICOLAS AYLLON - 191027&quot;</td><td>&quot;Zona Centro&quot;</td><td>&quot;Cerrado&quot;</td><td>2022-06-01</td><td>2022-06-08</td><td>2022-06-08</td></tr><tr><td>&quot;WO0000004122513&quot;</td><td>&quot;JAUREGUI - 405005&quot;</td><td>&quot;Zona Norte&quot;</td><td>&quot;Cerrado&quot;</td><td>2022-06-01</td><td>2022-06-18</td><td>2022-06-18</td></tr><tr><td>&quot;WO0000004122741&quot;</td><td>&quot;CANTO GRANDE - 191096&quot;</td><td>&quot;Zona Centro&quot;</td><td>&quot;Cerrado&quot;</td><td>2022-06-01</td><td>2022-06-08</td><td>2022-06-08</td></tr></tbody></table></div>"
      ],
      "text/plain": [
       "shape: (5, 7)\n",
       "┌──────────────┬──────────────┬──────────────┬─────────┬──────────────┬──────────────┬─────────────┐\n",
       "│ TicketID     ┆ Ubicacion    ┆ Service Desk ┆ Estado  ┆ Fecha        ┆ Fecha        ┆ Fecha       │\n",
       "│ ---          ┆ ---          ┆ ---          ┆ ---     ┆ Creacion     ┆ Termino      ┆ Cierre      │\n",
       "│ str          ┆ str          ┆ str          ┆ str     ┆ ---          ┆ ---          ┆ ---         │\n",
       "│              ┆              ┆              ┆         ┆ date         ┆ date         ┆ date        │\n",
       "╞══════════════╪══════════════╪══════════════╪═════════╪══════════════╪══════════════╪═════════════╡\n",
       "│ WO0000004122 ┆ AREQUIPA -   ┆ Zona Norte   ┆ Cerrado ┆ 2022-06-01   ┆ 2022-06-14   ┆ 2022-06-14  │\n",
       "│ 687          ┆ 215000       ┆              ┆         ┆              ┆              ┆             │\n",
       "│ WO0000004122 ┆ METRO AV.    ┆ Zona Centro  ┆ Cerrado ┆ 2022-06-01   ┆ 2022-06-17   ┆ 2022-06-17  │\n",
       "│ 649          ┆ WIESSE -     ┆              ┆         ┆              ┆              ┆             │\n",
       "│              ┆ 191106       ┆              ┆         ┆              ┆              ┆             │\n",
       "│ WO0000004122 ┆ NICOLAS      ┆ Zona Centro  ┆ Cerrado ┆ 2022-06-01   ┆ 2022-06-08   ┆ 2022-06-08  │\n",
       "│ 502          ┆ AYLLON -     ┆              ┆         ┆              ┆              ┆             │\n",
       "│              ┆ 191027       ┆              ┆         ┆              ┆              ┆             │\n",
       "│ WO0000004122 ┆ JAUREGUI -   ┆ Zona Norte   ┆ Cerrado ┆ 2022-06-01   ┆ 2022-06-18   ┆ 2022-06-18  │\n",
       "│ 513          ┆ 405005       ┆              ┆         ┆              ┆              ┆             │\n",
       "│ WO0000004122 ┆ CANTO GRANDE ┆ Zona Centro  ┆ Cerrado ┆ 2022-06-01   ┆ 2022-06-08   ┆ 2022-06-08  │\n",
       "│ 741          ┆ - 191096     ┆              ┆         ┆              ┆              ┆             │\n",
       "└──────────────┴──────────────┴──────────────┴─────────┴──────────────┴──────────────┴─────────────┘"
      ]
     },
     "execution_count": 73,
     "metadata": {},
     "output_type": "execute_result"
    }
   ],
   "source": [
    "Historico = pl.read_csv(\n",
    "    source=\"./Materiales/Tickets/Tickets Historico.txt\",\n",
    "    separator=\";\",\n",
    "    columns=[\"Numero Ticket\",\"Ubicacion\", \"Service Desk\",\"Estado\",\"Fecha Creacion\",\"Fecha Termino\", \"Fecha Cierre\"],\n",
    "    try_parse_dates= True,\n",
    "    ignore_errors= True\n",
    "\n",
    ").rename({\"Numero Ticket\":\"TicketID\"})\n",
    "\n",
    "Historico.head()"
   ]
  },
  {
   "cell_type": "markdown",
   "metadata": {},
   "source": [
    "#### Ticket Actual"
   ]
  },
  {
   "cell_type": "code",
   "execution_count": 74,
   "metadata": {},
   "outputs": [
    {
     "data": {
      "text/html": [
       "<div><style>\n",
       ".dataframe > thead > tr,\n",
       ".dataframe > tbody > tr {\n",
       "  text-align: right;\n",
       "  white-space: pre-wrap;\n",
       "}\n",
       "</style>\n",
       "<small>shape: (5, 7)</small><table border=\"1\" class=\"dataframe\"><thead><tr><th>Numero Ticket</th><th>Ubicacion</th><th>Service Desk</th><th>Estado</th><th>Fecha Creacion</th><th>Fecha Termino</th><th>Fecha Cierre</th></tr><tr><td>str</td><td>str</td><td>str</td><td>str</td><td>str</td><td>str</td><td>str</td></tr></thead><tbody><tr><td>&quot;WO0000004853311&quot;</td><td>&quot;TUPAC AMARU - 191038&quot;</td><td>&quot;Zona Centro&quot;</td><td>&quot;Cerrado&quot;</td><td>&quot;2023-01-02&quot;</td><td>&quot;10/01/2023&quot;</td><td>&quot;13/01/2023&quot;</td></tr><tr><td>&quot;WO0000004852942&quot;</td><td>&quot;SAN JUAN DE LURIGANCHO - 191017&quot;</td><td>&quot;Zona Centro&quot;</td><td>&quot;Cerrado&quot;</td><td>&quot;2023-01-02&quot;</td><td>&quot;2/01/2023&quot;</td><td>&quot;5/01/2023&quot;</td></tr><tr><td>&quot;WO0000004852621&quot;</td><td>&quot;MARIANO MELGAR - 215014&quot;</td><td>&quot;Zona Norte&quot;</td><td>&quot;Cerrado&quot;</td><td>&quot;2023-01-02&quot;</td><td>&quot;6/01/2023&quot;</td><td>&quot;9/01/2023&quot;</td></tr><tr><td>&quot;SA0000004853328&quot;</td><td>&quot;ANDAHUAYLAS - 205000&quot;</td><td>&quot;Zona Norte&quot;</td><td>&quot;Cerrado&quot;</td><td>&quot;2023-01-02&quot;</td><td>&quot;7/01/2023&quot;</td><td>&quot;10/01/2023&quot;</td></tr><tr><td>&quot;SA0000004853160&quot;</td><td>&quot;COLLIQUE - 191065&quot;</td><td>&quot;Zona Centro&quot;</td><td>&quot;Cerrado&quot;</td><td>&quot;2023-01-02&quot;</td><td>&quot;4/01/2023&quot;</td><td>&quot;7/01/2023&quot;</td></tr></tbody></table></div>"
      ],
      "text/plain": [
       "shape: (5, 7)\n",
       "┌──────────────┬──────────────┬──────────────┬─────────┬──────────────┬──────────────┬─────────────┐\n",
       "│ Numero       ┆ Ubicacion    ┆ Service Desk ┆ Estado  ┆ Fecha        ┆ Fecha        ┆ Fecha       │\n",
       "│ Ticket       ┆ ---          ┆ ---          ┆ ---     ┆ Creacion     ┆ Termino      ┆ Cierre      │\n",
       "│ ---          ┆ str          ┆ str          ┆ str     ┆ ---          ┆ ---          ┆ ---         │\n",
       "│ str          ┆              ┆              ┆         ┆ str          ┆ str          ┆ str         │\n",
       "╞══════════════╪══════════════╪══════════════╪═════════╪══════════════╪══════════════╪═════════════╡\n",
       "│ WO0000004853 ┆ TUPAC AMARU  ┆ Zona Centro  ┆ Cerrado ┆ 2023-01-02   ┆ 10/01/2023   ┆ 13/01/2023  │\n",
       "│ 311          ┆ - 191038     ┆              ┆         ┆              ┆              ┆             │\n",
       "│ WO0000004852 ┆ SAN JUAN DE  ┆ Zona Centro  ┆ Cerrado ┆ 2023-01-02   ┆ 2/01/2023    ┆ 5/01/2023   │\n",
       "│ 942          ┆ LURIGANCHO - ┆              ┆         ┆              ┆              ┆             │\n",
       "│              ┆ 191017       ┆              ┆         ┆              ┆              ┆             │\n",
       "│ WO0000004852 ┆ MARIANO      ┆ Zona Norte   ┆ Cerrado ┆ 2023-01-02   ┆ 6/01/2023    ┆ 9/01/2023   │\n",
       "│ 621          ┆ MELGAR -     ┆              ┆         ┆              ┆              ┆             │\n",
       "│              ┆ 215014       ┆              ┆         ┆              ┆              ┆             │\n",
       "│ SA0000004853 ┆ ANDAHUAYLAS  ┆ Zona Norte   ┆ Cerrado ┆ 2023-01-02   ┆ 7/01/2023    ┆ 10/01/2023  │\n",
       "│ 328          ┆ - 205000     ┆              ┆         ┆              ┆              ┆             │\n",
       "│ SA0000004853 ┆ COLLIQUE -   ┆ Zona Centro  ┆ Cerrado ┆ 2023-01-02   ┆ 4/01/2023    ┆ 7/01/2023   │\n",
       "│ 160          ┆ 191065       ┆              ┆         ┆              ┆              ┆             │\n",
       "└──────────────┴──────────────┴──────────────┴─────────┴──────────────┴──────────────┴─────────────┘"
      ]
     },
     "execution_count": 74,
     "metadata": {},
     "output_type": "execute_result"
    }
   ],
   "source": [
    "Actuales = pl.read_csv(\n",
    "    source=\"./Materiales/Tickets/Tickets Actual.csv\",\n",
    "    separator=\"|\",\n",
    "    columns=[\"Numero Ticket\",\"Ubicacion\", \"Service Desk\",\"Estado\",\"Fecha Creacion\",\"Fecha Termino\", \"Fecha Cierre\"],\n",
    ")\n",
    "Actuales.head()"
   ]
  },
  {
   "cell_type": "markdown",
   "metadata": {},
   "source": [
    "#### Convertir a tipos de datos y renombrar la columnas"
   ]
  },
  {
   "cell_type": "code",
   "execution_count": 75,
   "metadata": {},
   "outputs": [],
   "source": [
    "Actuales = Actuales.with_columns(\n",
    "    pl.col('Fecha Creacion').str.to_date('%Y-%m-%d'),\n",
    "    pl.col('Fecha Termino').str.to_date('%d/%m/%Y'),\n",
    "    pl.col('Fecha Cierre').str.to_date('%d/%m/%Y')\n",
    ").rename({'Numero Ticket':\"TicketID\"})"
   ]
  },
  {
   "cell_type": "code",
   "execution_count": 76,
   "metadata": {},
   "outputs": [],
   "source": [
    "Actuales = Actuales.filter(\n",
    "    pl.col('TicketID').str.starts_with(\"WO\")\n",
    ")"
   ]
  },
  {
   "cell_type": "markdown",
   "metadata": {},
   "source": [
    "#### Uniendo Dataframes"
   ]
  },
  {
   "cell_type": "code",
   "execution_count": 77,
   "metadata": {},
   "outputs": [
    {
     "data": {
      "text/html": [
       "<div><style>\n",
       ".dataframe > thead > tr,\n",
       ".dataframe > tbody > tr {\n",
       "  text-align: right;\n",
       "  white-space: pre-wrap;\n",
       "}\n",
       "</style>\n",
       "<small>shape: (5, 7)</small><table border=\"1\" class=\"dataframe\"><thead><tr><th>TicketID</th><th>Ubicacion</th><th>Service Desk</th><th>Estado</th><th>Fecha Creacion</th><th>Fecha Termino</th><th>Fecha Cierre</th></tr><tr><td>str</td><td>str</td><td>str</td><td>str</td><td>date</td><td>date</td><td>date</td></tr></thead><tbody><tr><td>&quot;WO0000004122687&quot;</td><td>&quot;AREQUIPA - 215000&quot;</td><td>&quot;Zona Norte&quot;</td><td>&quot;Cerrado&quot;</td><td>2022-06-01</td><td>2022-06-14</td><td>2022-06-14</td></tr><tr><td>&quot;WO0000004122649&quot;</td><td>&quot;METRO AV. WIESSE - 191106&quot;</td><td>&quot;Zona Centro&quot;</td><td>&quot;Cerrado&quot;</td><td>2022-06-01</td><td>2022-06-17</td><td>2022-06-17</td></tr><tr><td>&quot;WO0000004122502&quot;</td><td>&quot;NICOLAS AYLLON - 191027&quot;</td><td>&quot;Zona Centro&quot;</td><td>&quot;Cerrado&quot;</td><td>2022-06-01</td><td>2022-06-08</td><td>2022-06-08</td></tr><tr><td>&quot;WO0000004122513&quot;</td><td>&quot;JAUREGUI - 405005&quot;</td><td>&quot;Zona Norte&quot;</td><td>&quot;Cerrado&quot;</td><td>2022-06-01</td><td>2022-06-18</td><td>2022-06-18</td></tr><tr><td>&quot;WO0000004122741&quot;</td><td>&quot;CANTO GRANDE - 191096&quot;</td><td>&quot;Zona Centro&quot;</td><td>&quot;Cerrado&quot;</td><td>2022-06-01</td><td>2022-06-08</td><td>2022-06-08</td></tr></tbody></table></div>"
      ],
      "text/plain": [
       "shape: (5, 7)\n",
       "┌──────────────┬──────────────┬──────────────┬─────────┬──────────────┬──────────────┬─────────────┐\n",
       "│ TicketID     ┆ Ubicacion    ┆ Service Desk ┆ Estado  ┆ Fecha        ┆ Fecha        ┆ Fecha       │\n",
       "│ ---          ┆ ---          ┆ ---          ┆ ---     ┆ Creacion     ┆ Termino      ┆ Cierre      │\n",
       "│ str          ┆ str          ┆ str          ┆ str     ┆ ---          ┆ ---          ┆ ---         │\n",
       "│              ┆              ┆              ┆         ┆ date         ┆ date         ┆ date        │\n",
       "╞══════════════╪══════════════╪══════════════╪═════════╪══════════════╪══════════════╪═════════════╡\n",
       "│ WO0000004122 ┆ AREQUIPA -   ┆ Zona Norte   ┆ Cerrado ┆ 2022-06-01   ┆ 2022-06-14   ┆ 2022-06-14  │\n",
       "│ 687          ┆ 215000       ┆              ┆         ┆              ┆              ┆             │\n",
       "│ WO0000004122 ┆ METRO AV.    ┆ Zona Centro  ┆ Cerrado ┆ 2022-06-01   ┆ 2022-06-17   ┆ 2022-06-17  │\n",
       "│ 649          ┆ WIESSE -     ┆              ┆         ┆              ┆              ┆             │\n",
       "│              ┆ 191106       ┆              ┆         ┆              ┆              ┆             │\n",
       "│ WO0000004122 ┆ NICOLAS      ┆ Zona Centro  ┆ Cerrado ┆ 2022-06-01   ┆ 2022-06-08   ┆ 2022-06-08  │\n",
       "│ 502          ┆ AYLLON -     ┆              ┆         ┆              ┆              ┆             │\n",
       "│              ┆ 191027       ┆              ┆         ┆              ┆              ┆             │\n",
       "│ WO0000004122 ┆ JAUREGUI -   ┆ Zona Norte   ┆ Cerrado ┆ 2022-06-01   ┆ 2022-06-18   ┆ 2022-06-18  │\n",
       "│ 513          ┆ 405005       ┆              ┆         ┆              ┆              ┆             │\n",
       "│ WO0000004122 ┆ CANTO GRANDE ┆ Zona Centro  ┆ Cerrado ┆ 2022-06-01   ┆ 2022-06-08   ┆ 2022-06-08  │\n",
       "│ 741          ┆ - 191096     ┆              ┆         ┆              ┆              ┆             │\n",
       "└──────────────┴──────────────┴──────────────┴─────────┴──────────────┴──────────────┴─────────────┘"
      ]
     },
     "execution_count": 77,
     "metadata": {},
     "output_type": "execute_result"
    }
   ],
   "source": [
    "Tickets = pl.concat([Historico, Actuales], how=\"vertical\")\n",
    "Tickets.head()"
   ]
  },
  {
   "cell_type": "code",
   "execution_count": 78,
   "metadata": {},
   "outputs": [],
   "source": [
    "Tickets = Tickets.filter(\n",
    "    pl.col('TicketID').str.starts_with(\"WO\")\n",
    ")"
   ]
  },
  {
   "cell_type": "markdown",
   "metadata": {},
   "source": [
    "#### Valores Duplicados"
   ]
  },
  {
   "cell_type": "code",
   "execution_count": 79,
   "metadata": {},
   "outputs": [
    {
     "data": {
      "text/plain": [
       "(22223, 7)"
      ]
     },
     "execution_count": 79,
     "metadata": {},
     "output_type": "execute_result"
    }
   ],
   "source": [
    "Tickets.shape"
   ]
  },
  {
   "cell_type": "code",
   "execution_count": 80,
   "metadata": {},
   "outputs": [
    {
     "data": {
      "text/plain": [
       "(22210, 7)"
      ]
     },
     "execution_count": 80,
     "metadata": {},
     "output_type": "execute_result"
    }
   ],
   "source": [
    "Tickets.unique(subset='TicketID').shape"
   ]
  },
  {
   "cell_type": "code",
   "execution_count": 81,
   "metadata": {},
   "outputs": [],
   "source": [
    "Tickets= Tickets.filter(\n",
    "    pl.col(\"TicketID\").is_duplicated()\n",
    ").sort(\n",
    "    by =\"TicketID\"\n",
    ")"
   ]
  },
  {
   "cell_type": "code",
   "execution_count": 82,
   "metadata": {},
   "outputs": [],
   "source": [
    "Tickets = Tickets.sort(\n",
    "    by = [\"TicketID\",\"Fecha Creacion\"]\n",
    ").unique(\n",
    "    subset=\"TicketID\",\n",
    "    keep=\"last\",\n",
    "    maintain_order=True\n",
    ")"
   ]
  },
  {
   "cell_type": "code",
   "execution_count": 83,
   "metadata": {},
   "outputs": [
    {
     "data": {
      "text/html": [
       "<div><style>\n",
       ".dataframe > thead > tr,\n",
       ".dataframe > tbody > tr {\n",
       "  text-align: right;\n",
       "  white-space: pre-wrap;\n",
       "}\n",
       "</style>\n",
       "<small>shape: (5, 7)</small><table border=\"1\" class=\"dataframe\"><thead><tr><th>TicketID</th><th>Ubicacion</th><th>Service Desk</th><th>Estado</th><th>Fecha Creacion</th><th>Fecha Termino</th><th>Fecha Cierre</th></tr><tr><td>str</td><td>str</td><td>str</td><td>str</td><td>date</td><td>date</td><td>date</td></tr></thead><tbody><tr><td>&quot;WO0000004848619&quot;</td><td>&quot;ILO - 385000&quot;</td><td>&quot;Zona Norte&quot;</td><td>&quot;Cerrado&quot;</td><td>2022-12-31</td><td>2023-01-09</td><td>2023-01-12</td></tr><tr><td>&quot;WO0000004848638&quot;</td><td>&quot;VILLA SOL - 191059&quot;</td><td>&quot;Zona Centro&quot;</td><td>&quot;Cerrado&quot;</td><td>2022-12-31</td><td>2022-12-31</td><td>2023-01-03</td></tr><tr><td>&quot;WO0000004848654&quot;</td><td>&quot;MERCADO DE FRUTAS - 191064&quot;</td><td>&quot;Zona Centro&quot;</td><td>&quot;Cerrado&quot;</td><td>2022-12-31</td><td>2023-01-13</td><td>2023-01-16</td></tr><tr><td>&quot;WO0000004848666&quot;</td><td>&quot;QUILCA - 191160&quot;</td><td>&quot;Zona Centro&quot;</td><td>&quot;Cerrado&quot;</td><td>2022-12-31</td><td>2023-01-04</td><td>2023-01-07</td></tr><tr><td>&quot;WO0000004849307&quot;</td><td>&quot;TUSILAGOS - 191108&quot;</td><td>&quot;Zona Centro&quot;</td><td>&quot;Rechazado&quot;</td><td>2022-12-31</td><td>null</td><td>null</td></tr></tbody></table></div>"
      ],
      "text/plain": [
       "shape: (5, 7)\n",
       "┌──────────────┬──────────────┬──────────────┬───────────┬─────────────┬─────────────┬─────────────┐\n",
       "│ TicketID     ┆ Ubicacion    ┆ Service Desk ┆ Estado    ┆ Fecha       ┆ Fecha       ┆ Fecha       │\n",
       "│ ---          ┆ ---          ┆ ---          ┆ ---       ┆ Creacion    ┆ Termino     ┆ Cierre      │\n",
       "│ str          ┆ str          ┆ str          ┆ str       ┆ ---         ┆ ---         ┆ ---         │\n",
       "│              ┆              ┆              ┆           ┆ date        ┆ date        ┆ date        │\n",
       "╞══════════════╪══════════════╪══════════════╪═══════════╪═════════════╪═════════════╪═════════════╡\n",
       "│ WO0000004848 ┆ ILO - 385000 ┆ Zona Norte   ┆ Cerrado   ┆ 2022-12-31  ┆ 2023-01-09  ┆ 2023-01-12  │\n",
       "│ 619          ┆              ┆              ┆           ┆             ┆             ┆             │\n",
       "│ WO0000004848 ┆ VILLA SOL -  ┆ Zona Centro  ┆ Cerrado   ┆ 2022-12-31  ┆ 2022-12-31  ┆ 2023-01-03  │\n",
       "│ 638          ┆ 191059       ┆              ┆           ┆             ┆             ┆             │\n",
       "│ WO0000004848 ┆ MERCADO DE   ┆ Zona Centro  ┆ Cerrado   ┆ 2022-12-31  ┆ 2023-01-13  ┆ 2023-01-16  │\n",
       "│ 654          ┆ FRUTAS -     ┆              ┆           ┆             ┆             ┆             │\n",
       "│              ┆ 191064       ┆              ┆           ┆             ┆             ┆             │\n",
       "│ WO0000004848 ┆ QUILCA -     ┆ Zona Centro  ┆ Cerrado   ┆ 2022-12-31  ┆ 2023-01-04  ┆ 2023-01-07  │\n",
       "│ 666          ┆ 191160       ┆              ┆           ┆             ┆             ┆             │\n",
       "│ WO0000004849 ┆ TUSILAGOS -  ┆ Zona Centro  ┆ Rechazado ┆ 2022-12-31  ┆ null        ┆ null        │\n",
       "│ 307          ┆ 191108       ┆              ┆           ┆             ┆             ┆             │\n",
       "└──────────────┴──────────────┴──────────────┴───────────┴─────────────┴─────────────┴─────────────┘"
      ]
     },
     "execution_count": 83,
     "metadata": {},
     "output_type": "execute_result"
    }
   ],
   "source": [
    "Tickets.head()"
   ]
  },
  {
   "cell_type": "code",
   "execution_count": 84,
   "metadata": {},
   "outputs": [
    {
     "data": {
      "text/html": [
       "<div><style>\n",
       ".dataframe > thead > tr,\n",
       ".dataframe > tbody > tr {\n",
       "  text-align: right;\n",
       "  white-space: pre-wrap;\n",
       "}\n",
       "</style>\n",
       "<small>shape: (5, 8)</small><table border=\"1\" class=\"dataframe\"><thead><tr><th>TicketID</th><th>Agencia</th><th>AgenciaID</th><th>Service Desk</th><th>Estado</th><th>Fecha Creacion</th><th>Fecha Termino</th><th>Fecha Cierre</th></tr><tr><td>str</td><td>str</td><td>i64</td><td>str</td><td>str</td><td>date</td><td>date</td><td>date</td></tr></thead><tbody><tr><td>&quot;WO0000004848619&quot;</td><td>&quot;ILO&quot;</td><td>385000</td><td>&quot;Zona Norte&quot;</td><td>&quot;Cerrado&quot;</td><td>2022-12-31</td><td>2023-01-09</td><td>2023-01-12</td></tr><tr><td>&quot;WO0000004848638&quot;</td><td>&quot;VILLA SOL&quot;</td><td>191059</td><td>&quot;Zona Centro&quot;</td><td>&quot;Cerrado&quot;</td><td>2022-12-31</td><td>2022-12-31</td><td>2023-01-03</td></tr><tr><td>&quot;WO0000004848654&quot;</td><td>&quot;MERCADO DE FRUTAS&quot;</td><td>191064</td><td>&quot;Zona Centro&quot;</td><td>&quot;Cerrado&quot;</td><td>2022-12-31</td><td>2023-01-13</td><td>2023-01-16</td></tr><tr><td>&quot;WO0000004848666&quot;</td><td>&quot;QUILCA&quot;</td><td>191160</td><td>&quot;Zona Centro&quot;</td><td>&quot;Cerrado&quot;</td><td>2022-12-31</td><td>2023-01-04</td><td>2023-01-07</td></tr><tr><td>&quot;WO0000004849307&quot;</td><td>&quot;TUSILAGOS&quot;</td><td>191108</td><td>&quot;Zona Centro&quot;</td><td>&quot;Rechazado&quot;</td><td>2022-12-31</td><td>null</td><td>null</td></tr></tbody></table></div>"
      ],
      "text/plain": [
       "shape: (5, 8)\n",
       "┌────────────┬────────────┬───────────┬────────────┬───────────┬───────────┬───────────┬───────────┐\n",
       "│ TicketID   ┆ Agencia    ┆ AgenciaID ┆ Service    ┆ Estado    ┆ Fecha     ┆ Fecha     ┆ Fecha     │\n",
       "│ ---        ┆ ---        ┆ ---       ┆ Desk       ┆ ---       ┆ Creacion  ┆ Termino   ┆ Cierre    │\n",
       "│ str        ┆ str        ┆ i64       ┆ ---        ┆ str       ┆ ---       ┆ ---       ┆ ---       │\n",
       "│            ┆            ┆           ┆ str        ┆           ┆ date      ┆ date      ┆ date      │\n",
       "╞════════════╪════════════╪═══════════╪════════════╪═══════════╪═══════════╪═══════════╪═══════════╡\n",
       "│ WO00000048 ┆ ILO        ┆ 385000    ┆ Zona Norte ┆ Cerrado   ┆ 2022-12-3 ┆ 2023-01-0 ┆ 2023-01-1 │\n",
       "│ 48619      ┆            ┆           ┆            ┆           ┆ 1         ┆ 9         ┆ 2         │\n",
       "│ WO00000048 ┆ VILLA SOL  ┆ 191059    ┆ Zona       ┆ Cerrado   ┆ 2022-12-3 ┆ 2022-12-3 ┆ 2023-01-0 │\n",
       "│ 48638      ┆            ┆           ┆ Centro     ┆           ┆ 1         ┆ 1         ┆ 3         │\n",
       "│ WO00000048 ┆ MERCADO DE ┆ 191064    ┆ Zona       ┆ Cerrado   ┆ 2022-12-3 ┆ 2023-01-1 ┆ 2023-01-1 │\n",
       "│ 48654      ┆ FRUTAS     ┆           ┆ Centro     ┆           ┆ 1         ┆ 3         ┆ 6         │\n",
       "│ WO00000048 ┆ QUILCA     ┆ 191160    ┆ Zona       ┆ Cerrado   ┆ 2022-12-3 ┆ 2023-01-0 ┆ 2023-01-0 │\n",
       "│ 48666      ┆            ┆           ┆ Centro     ┆           ┆ 1         ┆ 4         ┆ 7         │\n",
       "│ WO00000048 ┆ TUSILAGOS  ┆ 191108    ┆ Zona       ┆ Rechazado ┆ 2022-12-3 ┆ null      ┆ null      │\n",
       "│ 49307      ┆            ┆           ┆ Centro     ┆           ┆ 1         ┆           ┆           │\n",
       "└────────────┴────────────┴───────────┴────────────┴───────────┴───────────┴───────────┴───────────┘"
      ]
     },
     "execution_count": 84,
     "metadata": {},
     "output_type": "execute_result"
    }
   ],
   "source": [
    "#Split  la columna Ubicacion\n",
    "Tickets = Tickets.with_columns(\n",
    "    pl.col(\"Ubicacion\").str.split_exact(' - ', 1)\n",
    "    .struct.rename_fields([\"Agencia\",\"AgenciaID\"])\n",
    "    .alias('Ubicacion')\n",
    ").unnest('Ubicacion').cast({\"AgenciaID\": pl.Int64})\n",
    "Tickets.head()"
   ]
  },
  {
   "cell_type": "code",
   "execution_count": 85,
   "metadata": {},
   "outputs": [],
   "source": [
    "Tickets = Tickets.with_columns(\n",
    "    pl.when(pl.col(\"Fecha Termino\").is_null()).then(pl.col(\"Fecha Cierre\"))\n",
    "    .otherwise(pl.col(\"Fecha Termino\")).alias(\"Fecha Real Cierre\")\n",
    ")\n",
    "\n"
   ]
  },
  {
   "cell_type": "code",
   "execution_count": 86,
   "metadata": {},
   "outputs": [],
   "source": [
    "Tickets = Tickets.with_columns(\n",
    "    (pl.col(\"Fecha Real Cierre\") - pl.col(\"Fecha Creacion\")).dt.total_days().alias(\"Dias Cierre\")\n",
    ")"
   ]
  },
  {
   "cell_type": "code",
   "execution_count": 87,
   "metadata": {},
   "outputs": [],
   "source": [
    "Tickets = Tickets.with_columns(\n",
    "    pl.when(pl.col(\"Dias Cierre\").is_null()).then(None)\n",
    "      .when(pl.col(\"Dias Cierre\") < 3).then(pl.lit(\"0 a 3 dias\"))\n",
    "      .when((pl.col(\"Dias Cierre\") >= 3) & (pl.col(\"Dias Cierre\") < 7)).then(pl.lit('3 a 7 dias'))\n",
    "      .when((pl.col(\"Dias Cierre\") >= 7) & (pl.col(\"Dias Cierre\") < 15)).then(pl.lit('7 a 15 dias'))\n",
    "      .otherwise(pl.lit(\"+ 15 dias\")).alias('Grupo Dias')\n",
    ")"
   ]
  },
  {
   "cell_type": "markdown",
   "metadata": {},
   "source": [
    "#### Base Atenciones"
   ]
  },
  {
   "cell_type": "code",
   "execution_count": 88,
   "metadata": {},
   "outputs": [],
   "source": [
    "dataAtenciones = pl.read_excel(\n",
    "    source = './Materiales/Atenciones/Atenciones Centro.xlsx',\n",
    "    sheet_name = 'Hoja1',\n",
    "    engine = 'xlsx2csv',\n",
    "    infer_schema_length= 0,\n",
    "    read_options={'columns' : ['Numero Ticket','Tipo de Ticket','Proveedor','Costo Atencion']}\n",
    ")"
   ]
  },
  {
   "cell_type": "markdown",
   "metadata": {},
   "source": [
    "#### Reemplar valores de costo de Atencion"
   ]
  },
  {
   "cell_type": "code",
   "execution_count": 89,
   "metadata": {},
   "outputs": [
    {
     "data": {
      "text/html": [
       "<div><style>\n",
       ".dataframe > thead > tr,\n",
       ".dataframe > tbody > tr {\n",
       "  text-align: right;\n",
       "  white-space: pre-wrap;\n",
       "}\n",
       "</style>\n",
       "<small>shape: (5, 4)</small><table border=\"1\" class=\"dataframe\"><thead><tr><th>Numero Ticket</th><th>Tipo de Ticket</th><th>Proveedor</th><th>Costo Atencion</th></tr><tr><td>str</td><td>str</td><td>str</td><td>str</td></tr></thead><tbody><tr><td>&quot;WO0000005584689&quot;</td><td>&quot;Variable&quot;</td><td>&quot;MR EXPRESS&quot;</td><td>null</td></tr><tr><td>&quot;WO0000004544943&quot;</td><td>&quot;Rechazado&quot;</td><td>null</td><td>&quot;100&quot;</td></tr><tr><td>&quot;WO0000004545246&quot;</td><td>&quot;Rechazado&quot;</td><td>null</td><td>&quot;100&quot;</td></tr><tr><td>&quot;WO0000004559125&quot;</td><td>&quot;Rechazado&quot;</td><td>null</td><td>&quot;100&quot;</td></tr><tr><td>&quot;WO0000004707477&quot;</td><td>&quot;Rechazado&quot;</td><td>null</td><td>&quot;100&quot;</td></tr></tbody></table></div>"
      ],
      "text/plain": [
       "shape: (5, 4)\n",
       "┌─────────────────┬────────────────┬────────────┬────────────────┐\n",
       "│ Numero Ticket   ┆ Tipo de Ticket ┆ Proveedor  ┆ Costo Atencion │\n",
       "│ ---             ┆ ---            ┆ ---        ┆ ---            │\n",
       "│ str             ┆ str            ┆ str        ┆ str            │\n",
       "╞═════════════════╪════════════════╪════════════╪════════════════╡\n",
       "│ WO0000005584689 ┆ Variable       ┆ MR EXPRESS ┆ null           │\n",
       "│ WO0000004544943 ┆ Rechazado      ┆ null       ┆ 100            │\n",
       "│ WO0000004545246 ┆ Rechazado      ┆ null       ┆ 100            │\n",
       "│ WO0000004559125 ┆ Rechazado      ┆ null       ┆ 100            │\n",
       "│ WO0000004707477 ┆ Rechazado      ┆ null       ┆ 100            │\n",
       "└─────────────────┴────────────────┴────────────┴────────────────┘"
      ]
     },
     "execution_count": 89,
     "metadata": {},
     "output_type": "execute_result"
    }
   ],
   "source": [
    "dataAtenciones = dataAtenciones.select(\n",
    "    pl.col(['Numero Ticket','Tipo de Ticket','Proveedor']),\n",
    "    pl.col('Costo Atencion').str.replace(',','.')\n",
    "    .str.to_uppercase()\n",
    "    .str.strip_chars()\n",
    "    .str.replace_many(\n",
    "        ['COSTO CERO','SIN COSTO'],\"0\"\n",
    "    ).alias('Costo Atencion')\n",
    ")\n",
    "\n",
    "dataAtenciones.head()"
   ]
  },
  {
   "cell_type": "code",
   "execution_count": 90,
   "metadata": {},
   "outputs": [],
   "source": [
    "def texto_a_decimal(valor: str):\n",
    "    try:\n",
    "        return float(valor)\n",
    "    except:\n",
    "        return None"
   ]
  },
  {
   "cell_type": "code",
   "execution_count": 91,
   "metadata": {},
   "outputs": [
    {
     "data": {
      "text/html": [
       "<div><style>\n",
       ".dataframe > thead > tr,\n",
       ".dataframe > tbody > tr {\n",
       "  text-align: right;\n",
       "  white-space: pre-wrap;\n",
       "}\n",
       "</style>\n",
       "<small>shape: (12_604, 5)</small><table border=\"1\" class=\"dataframe\"><thead><tr><th>Numero Ticket</th><th>Tipo de Ticket</th><th>Proveedor</th><th>Costo Atencion</th><th>Costo</th></tr><tr><td>str</td><td>str</td><td>str</td><td>str</td><td>f64</td></tr></thead><tbody><tr><td>&quot;WO0000005584689&quot;</td><td>&quot;Variable&quot;</td><td>&quot;MR EXPRESS&quot;</td><td>null</td><td>null</td></tr><tr><td>&quot;WO0000004544943&quot;</td><td>&quot;Rechazado&quot;</td><td>null</td><td>&quot;100&quot;</td><td>100.0</td></tr><tr><td>&quot;WO0000004545246&quot;</td><td>&quot;Rechazado&quot;</td><td>null</td><td>&quot;100&quot;</td><td>100.0</td></tr><tr><td>&quot;WO0000004559125&quot;</td><td>&quot;Rechazado&quot;</td><td>null</td><td>&quot;100&quot;</td><td>100.0</td></tr><tr><td>&quot;WO0000004707477&quot;</td><td>&quot;Rechazado&quot;</td><td>null</td><td>&quot;100&quot;</td><td>100.0</td></tr><tr><td>&hellip;</td><td>&hellip;</td><td>&hellip;</td><td>&hellip;</td><td>&hellip;</td></tr><tr><td>&quot;WO0000005737893&quot;</td><td>&quot;Variable&quot;</td><td>&quot;ACCENTURE&quot;</td><td>null</td><td>null</td></tr><tr><td>&quot;WO0000005738706&quot;</td><td>&quot;Variable&quot;</td><td>&quot;ACCENTURE&quot;</td><td>null</td><td>null</td></tr><tr><td>&quot;WO0000005738709&quot;</td><td>&quot;Variable&quot;</td><td>&quot;COORPORACION R&amp;M&quot;</td><td>null</td><td>null</td></tr><tr><td>&quot;WO0000005738726&quot;</td><td>&quot;Variable&quot;</td><td>&quot;ACCENTURE&quot;</td><td>null</td><td>null</td></tr><tr><td>&quot;WO0000005738729&quot;</td><td>&quot;Variable&quot;</td><td>&quot;ACCENTURE&quot;</td><td>null</td><td>null</td></tr></tbody></table></div>"
      ],
      "text/plain": [
       "shape: (12_604, 5)\n",
       "┌─────────────────┬────────────────┬──────────────────┬────────────────┬───────┐\n",
       "│ Numero Ticket   ┆ Tipo de Ticket ┆ Proveedor        ┆ Costo Atencion ┆ Costo │\n",
       "│ ---             ┆ ---            ┆ ---              ┆ ---            ┆ ---   │\n",
       "│ str             ┆ str            ┆ str              ┆ str            ┆ f64   │\n",
       "╞═════════════════╪════════════════╪══════════════════╪════════════════╪═══════╡\n",
       "│ WO0000005584689 ┆ Variable       ┆ MR EXPRESS       ┆ null           ┆ null  │\n",
       "│ WO0000004544943 ┆ Rechazado      ┆ null             ┆ 100            ┆ 100.0 │\n",
       "│ WO0000004545246 ┆ Rechazado      ┆ null             ┆ 100            ┆ 100.0 │\n",
       "│ WO0000004559125 ┆ Rechazado      ┆ null             ┆ 100            ┆ 100.0 │\n",
       "│ WO0000004707477 ┆ Rechazado      ┆ null             ┆ 100            ┆ 100.0 │\n",
       "│ …               ┆ …              ┆ …                ┆ …              ┆ …     │\n",
       "│ WO0000005737893 ┆ Variable       ┆ ACCENTURE        ┆ null           ┆ null  │\n",
       "│ WO0000005738706 ┆ Variable       ┆ ACCENTURE        ┆ null           ┆ null  │\n",
       "│ WO0000005738709 ┆ Variable       ┆ COORPORACION R&M ┆ null           ┆ null  │\n",
       "│ WO0000005738726 ┆ Variable       ┆ ACCENTURE        ┆ null           ┆ null  │\n",
       "│ WO0000005738729 ┆ Variable       ┆ ACCENTURE        ┆ null           ┆ null  │\n",
       "└─────────────────┴────────────────┴──────────────────┴────────────────┴───────┘"
      ]
     },
     "execution_count": 91,
     "metadata": {},
     "output_type": "execute_result"
    }
   ],
   "source": [
    "dataAtenciones.with_columns(\n",
    "    pl.col('Costo Atencion').map_elements(texto_a_decimal, return_dtype=pl.Float64).alias('Costo')\n",
    ")"
   ]
  },
  {
   "cell_type": "code",
   "execution_count": 92,
   "metadata": {},
   "outputs": [],
   "source": [
    "#Leer archivos que estan dentro de una carpeta\n",
    "from pathlib import Path \n"
   ]
  },
  {
   "cell_type": "code",
   "execution_count": 93,
   "metadata": {},
   "outputs": [
    {
     "data": {
      "text/plain": [
       "WindowsPath('Materiales/Atenciones')"
      ]
     },
     "execution_count": 93,
     "metadata": {},
     "output_type": "execute_result"
    }
   ],
   "source": [
    "rutaCarpeta  = Path('./Materiales/Atenciones/')\n",
    "rutaCarpeta "
   ]
  },
  {
   "cell_type": "code",
   "execution_count": 94,
   "metadata": {},
   "outputs": [
    {
     "data": {
      "text/plain": [
       "[WindowsPath('Materiales/Atenciones/Atenciones Centro.xlsx'),\n",
       " WindowsPath('Materiales/Atenciones/Atenciones Norte.xlsx'),\n",
       " WindowsPath('Materiales/Atenciones/Atenciones Sur.xlsx')]"
      ]
     },
     "execution_count": 94,
     "metadata": {},
     "output_type": "execute_result"
    }
   ],
   "source": [
    "list(rutaCarpeta.glob('*.xlsx'))"
   ]
  },
  {
   "cell_type": "code",
   "execution_count": 95,
   "metadata": {},
   "outputs": [],
   "source": [
    "archivos = list(rutaCarpeta.glob('*.xlsx'))\n",
    "for archivo in archivos:\n",
    "    archivo.name"
   ]
  },
  {
   "cell_type": "code",
   "execution_count": 96,
   "metadata": {},
   "outputs": [],
   "source": [
    "Atenciones = pl.DataFrame()\n",
    "for archivo in archivos:\n",
    "    file = archivo.name\n",
    "    filepath = f'./Materiales/Atenciones/{file}'\n",
    "    data = pl.read_excel(\n",
    "        source = filepath,\n",
    "        sheet_name = 'Hoja1',\n",
    "        engine = 'xlsx2csv',\n",
    "        infer_schema_length= 0,\n",
    "        read_options = {\n",
    "            'columns' : ['Numero Ticket','Tipo de Ticket','Proveedor','Costo Atencion']\n",
    "        }\n",
    "    )\n",
    "    data = data.with_columns(\n",
    "        pl.lit(file).alias('Nombre_Archivo')\n",
    "    )\n",
    "    Atenciones = pl.concat([Atenciones, data], how='vertical')\n",
    "\n",
    "    \n",
    "    "
   ]
  },
  {
   "cell_type": "code",
   "execution_count": 97,
   "metadata": {},
   "outputs": [
    {
     "data": {
      "text/html": [
       "<div><style>\n",
       ".dataframe > thead > tr,\n",
       ".dataframe > tbody > tr {\n",
       "  text-align: right;\n",
       "  white-space: pre-wrap;\n",
       "}\n",
       "</style>\n",
       "<small>shape: (5, 5)</small><table border=\"1\" class=\"dataframe\"><thead><tr><th>Numero Ticket</th><th>Tipo de Ticket</th><th>Proveedor</th><th>Costo Atencion</th><th>Nombre_Archivo</th></tr><tr><td>str</td><td>str</td><td>str</td><td>str</td><td>str</td></tr></thead><tbody><tr><td>&quot;WO0000005584689&quot;</td><td>&quot;Variable&quot;</td><td>&quot;MR EXPRESS&quot;</td><td>null</td><td>&quot;Atenciones Centro.xlsx&quot;</td></tr><tr><td>&quot;WO0000004544943&quot;</td><td>&quot;Rechazado&quot;</td><td>null</td><td>&quot;100&quot;</td><td>&quot;Atenciones Centro.xlsx&quot;</td></tr><tr><td>&quot;WO0000004545246&quot;</td><td>&quot;Rechazado&quot;</td><td>null</td><td>&quot;100&quot;</td><td>&quot;Atenciones Centro.xlsx&quot;</td></tr><tr><td>&quot;WO0000004559125&quot;</td><td>&quot;Rechazado&quot;</td><td>null</td><td>&quot;100&quot;</td><td>&quot;Atenciones Centro.xlsx&quot;</td></tr><tr><td>&quot;WO0000004707477&quot;</td><td>&quot;Rechazado&quot;</td><td>null</td><td>&quot;100&quot;</td><td>&quot;Atenciones Centro.xlsx&quot;</td></tr></tbody></table></div>"
      ],
      "text/plain": [
       "shape: (5, 5)\n",
       "┌─────────────────┬────────────────┬────────────┬────────────────┬────────────────────────┐\n",
       "│ Numero Ticket   ┆ Tipo de Ticket ┆ Proveedor  ┆ Costo Atencion ┆ Nombre_Archivo         │\n",
       "│ ---             ┆ ---            ┆ ---        ┆ ---            ┆ ---                    │\n",
       "│ str             ┆ str            ┆ str        ┆ str            ┆ str                    │\n",
       "╞═════════════════╪════════════════╪════════════╪════════════════╪════════════════════════╡\n",
       "│ WO0000005584689 ┆ Variable       ┆ MR EXPRESS ┆ null           ┆ Atenciones Centro.xlsx │\n",
       "│ WO0000004544943 ┆ Rechazado      ┆ null       ┆ 100            ┆ Atenciones Centro.xlsx │\n",
       "│ WO0000004545246 ┆ Rechazado      ┆ null       ┆ 100            ┆ Atenciones Centro.xlsx │\n",
       "│ WO0000004559125 ┆ Rechazado      ┆ null       ┆ 100            ┆ Atenciones Centro.xlsx │\n",
       "│ WO0000004707477 ┆ Rechazado      ┆ null       ┆ 100            ┆ Atenciones Centro.xlsx │\n",
       "└─────────────────┴────────────────┴────────────┴────────────────┴────────────────────────┘"
      ]
     },
     "execution_count": 97,
     "metadata": {},
     "output_type": "execute_result"
    }
   ],
   "source": [
    "Atenciones.head()"
   ]
  },
  {
   "cell_type": "code",
   "execution_count": 98,
   "metadata": {},
   "outputs": [
    {
     "data": {
      "text/html": [
       "<div><style>\n",
       ".dataframe > thead > tr,\n",
       ".dataframe > tbody > tr {\n",
       "  text-align: right;\n",
       "  white-space: pre-wrap;\n",
       "}\n",
       "</style>\n",
       "<small>shape: (5, 4)</small><table border=\"1\" class=\"dataframe\"><thead><tr><th>Numero Ticket</th><th>Tipo de Ticket</th><th>Proveedor</th><th>Costo Atencion</th></tr><tr><td>str</td><td>str</td><td>str</td><td>str</td></tr></thead><tbody><tr><td>&quot;WO0000005584689&quot;</td><td>&quot;Variable&quot;</td><td>&quot;MR EXPRESS&quot;</td><td>null</td></tr><tr><td>&quot;WO0000004544943&quot;</td><td>&quot;Rechazado&quot;</td><td>null</td><td>&quot;100&quot;</td></tr><tr><td>&quot;WO0000004545246&quot;</td><td>&quot;Rechazado&quot;</td><td>null</td><td>&quot;100&quot;</td></tr><tr><td>&quot;WO0000004559125&quot;</td><td>&quot;Rechazado&quot;</td><td>null</td><td>&quot;100&quot;</td></tr><tr><td>&quot;WO0000004707477&quot;</td><td>&quot;Rechazado&quot;</td><td>null</td><td>&quot;100&quot;</td></tr></tbody></table></div>"
      ],
      "text/plain": [
       "shape: (5, 4)\n",
       "┌─────────────────┬────────────────┬────────────┬────────────────┐\n",
       "│ Numero Ticket   ┆ Tipo de Ticket ┆ Proveedor  ┆ Costo Atencion │\n",
       "│ ---             ┆ ---            ┆ ---        ┆ ---            │\n",
       "│ str             ┆ str            ┆ str        ┆ str            │\n",
       "╞═════════════════╪════════════════╪════════════╪════════════════╡\n",
       "│ WO0000005584689 ┆ Variable       ┆ MR EXPRESS ┆ null           │\n",
       "│ WO0000004544943 ┆ Rechazado      ┆ null       ┆ 100            │\n",
       "│ WO0000004545246 ┆ Rechazado      ┆ null       ┆ 100            │\n",
       "│ WO0000004559125 ┆ Rechazado      ┆ null       ┆ 100            │\n",
       "│ WO0000004707477 ┆ Rechazado      ┆ null       ┆ 100            │\n",
       "└─────────────────┴────────────────┴────────────┴────────────────┘"
      ]
     },
     "execution_count": 98,
     "metadata": {},
     "output_type": "execute_result"
    }
   ],
   "source": [
    "Atenciones = Atenciones.select(\n",
    "    pl.col(['Numero Ticket','Tipo de Ticket','Proveedor']),\n",
    "    pl.col('Costo Atencion').str.replace(',','.')\n",
    "    .str.to_uppercase()\n",
    "    .str.strip_chars()\n",
    "    .str.replace_many(\n",
    "        ['COSTO CERO','SIN COSTO'],\"0\"\n",
    "    ).alias('Costo Atencion')\n",
    ")\n",
    "\n",
    "Atenciones.head()"
   ]
  },
  {
   "cell_type": "code",
   "execution_count": 99,
   "metadata": {},
   "outputs": [],
   "source": [
    "Atenciones = Atenciones.with_columns(\n",
    "    pl.col('Costo Atencion').map_elements(texto_a_decimal, return_dtype=pl.Float64).alias('Costo Atencion')\n",
    ")"
   ]
  },
  {
   "cell_type": "code",
   "execution_count": 100,
   "metadata": {},
   "outputs": [
    {
     "data": {
      "text/html": [
       "<div><style>\n",
       ".dataframe > thead > tr,\n",
       ".dataframe > tbody > tr {\n",
       "  text-align: right;\n",
       "  white-space: pre-wrap;\n",
       "}\n",
       "</style>\n",
       "<small>shape: (5, 11)</small><table border=\"1\" class=\"dataframe\"><thead><tr><th>TicketID</th><th>Agencia</th><th>AgenciaID</th><th>Service Desk</th><th>Estado</th><th>Fecha Creacion</th><th>Fecha Termino</th><th>Fecha Cierre</th><th>Fecha Real Cierre</th><th>Dias Cierre</th><th>Grupo Dias</th></tr><tr><td>str</td><td>str</td><td>i64</td><td>str</td><td>str</td><td>date</td><td>date</td><td>date</td><td>date</td><td>i64</td><td>str</td></tr></thead><tbody><tr><td>&quot;WO0000004848619&quot;</td><td>&quot;ILO&quot;</td><td>385000</td><td>&quot;Zona Norte&quot;</td><td>&quot;Cerrado&quot;</td><td>2022-12-31</td><td>2023-01-09</td><td>2023-01-12</td><td>2023-01-09</td><td>9</td><td>&quot;7 a 15 dias&quot;</td></tr><tr><td>&quot;WO0000004848638&quot;</td><td>&quot;VILLA SOL&quot;</td><td>191059</td><td>&quot;Zona Centro&quot;</td><td>&quot;Cerrado&quot;</td><td>2022-12-31</td><td>2022-12-31</td><td>2023-01-03</td><td>2022-12-31</td><td>0</td><td>&quot;0 a 3 dias&quot;</td></tr><tr><td>&quot;WO0000004848654&quot;</td><td>&quot;MERCADO DE FRUTAS&quot;</td><td>191064</td><td>&quot;Zona Centro&quot;</td><td>&quot;Cerrado&quot;</td><td>2022-12-31</td><td>2023-01-13</td><td>2023-01-16</td><td>2023-01-13</td><td>13</td><td>&quot;7 a 15 dias&quot;</td></tr><tr><td>&quot;WO0000004848666&quot;</td><td>&quot;QUILCA&quot;</td><td>191160</td><td>&quot;Zona Centro&quot;</td><td>&quot;Cerrado&quot;</td><td>2022-12-31</td><td>2023-01-04</td><td>2023-01-07</td><td>2023-01-04</td><td>4</td><td>&quot;3 a 7 dias&quot;</td></tr><tr><td>&quot;WO0000004849307&quot;</td><td>&quot;TUSILAGOS&quot;</td><td>191108</td><td>&quot;Zona Centro&quot;</td><td>&quot;Rechazado&quot;</td><td>2022-12-31</td><td>null</td><td>null</td><td>null</td><td>null</td><td>null</td></tr></tbody></table></div>"
      ],
      "text/plain": [
       "shape: (5, 11)\n",
       "┌───────────┬───────────┬───────────┬───────────┬───┬───────────┬───────────┬───────────┬──────────┐\n",
       "│ TicketID  ┆ Agencia   ┆ AgenciaID ┆ Service   ┆ … ┆ Fecha     ┆ Fecha     ┆ Dias      ┆ Grupo    │\n",
       "│ ---       ┆ ---       ┆ ---       ┆ Desk      ┆   ┆ Cierre    ┆ Real      ┆ Cierre    ┆ Dias     │\n",
       "│ str       ┆ str       ┆ i64       ┆ ---       ┆   ┆ ---       ┆ Cierre    ┆ ---       ┆ ---      │\n",
       "│           ┆           ┆           ┆ str       ┆   ┆ date      ┆ ---       ┆ i64       ┆ str      │\n",
       "│           ┆           ┆           ┆           ┆   ┆           ┆ date      ┆           ┆          │\n",
       "╞═══════════╪═══════════╪═══════════╪═══════════╪═══╪═══════════╪═══════════╪═══════════╪══════════╡\n",
       "│ WO0000004 ┆ ILO       ┆ 385000    ┆ Zona      ┆ … ┆ 2023-01-1 ┆ 2023-01-0 ┆ 9         ┆ 7 a 15   │\n",
       "│ 848619    ┆           ┆           ┆ Norte     ┆   ┆ 2         ┆ 9         ┆           ┆ dias     │\n",
       "│ WO0000004 ┆ VILLA SOL ┆ 191059    ┆ Zona      ┆ … ┆ 2023-01-0 ┆ 2022-12-3 ┆ 0         ┆ 0 a 3    │\n",
       "│ 848638    ┆           ┆           ┆ Centro    ┆   ┆ 3         ┆ 1         ┆           ┆ dias     │\n",
       "│ WO0000004 ┆ MERCADO   ┆ 191064    ┆ Zona      ┆ … ┆ 2023-01-1 ┆ 2023-01-1 ┆ 13        ┆ 7 a 15   │\n",
       "│ 848654    ┆ DE FRUTAS ┆           ┆ Centro    ┆   ┆ 6         ┆ 3         ┆           ┆ dias     │\n",
       "│ WO0000004 ┆ QUILCA    ┆ 191160    ┆ Zona      ┆ … ┆ 2023-01-0 ┆ 2023-01-0 ┆ 4         ┆ 3 a 7    │\n",
       "│ 848666    ┆           ┆           ┆ Centro    ┆   ┆ 7         ┆ 4         ┆           ┆ dias     │\n",
       "│ WO0000004 ┆ TUSILAGOS ┆ 191108    ┆ Zona      ┆ … ┆ null      ┆ null      ┆ null      ┆ null     │\n",
       "│ 849307    ┆           ┆           ┆ Centro    ┆   ┆           ┆           ┆           ┆          │\n",
       "└───────────┴───────────┴───────────┴───────────┴───┴───────────┴───────────┴───────────┴──────────┘"
      ]
     },
     "execution_count": 100,
     "metadata": {},
     "output_type": "execute_result"
    }
   ],
   "source": [
    "Tickets.head()"
   ]
  },
  {
   "cell_type": "markdown",
   "metadata": {},
   "source": [
    "#### Aplicando un join entre Atenciones y Ticket\n"
   ]
  },
  {
   "cell_type": "code",
   "execution_count": 101,
   "metadata": {},
   "outputs": [
    {
     "data": {
      "text/html": [
       "<div><style>\n",
       ".dataframe > thead > tr,\n",
       ".dataframe > tbody > tr {\n",
       "  text-align: right;\n",
       "  white-space: pre-wrap;\n",
       "}\n",
       "</style>\n",
       "<small>shape: (5, 10)</small><table border=\"1\" class=\"dataframe\"><thead><tr><th>TicketID</th><th>AgenciaID</th><th>Agencia</th><th>Service Desk</th><th>Estado</th><th>Fecha Creacion</th><th>Fecha Cierre</th><th>Grupo Dias</th><th>Tipo Ticket</th><th>Costo</th></tr><tr><td>str</td><td>i64</td><td>str</td><td>str</td><td>str</td><td>date</td><td>date</td><td>str</td><td>str</td><td>f64</td></tr></thead><tbody><tr><td>&quot;WO0000004849307&quot;</td><td>191108</td><td>&quot;TUSILAGOS&quot;</td><td>&quot;Zona Centro&quot;</td><td>&quot;Rechazado&quot;</td><td>2022-12-31</td><td>null</td><td>null</td><td>&quot;Rechazado&quot;</td><td>1376.0</td></tr><tr><td>&quot;WO0000004849307&quot;</td><td>191108</td><td>&quot;TUSILAGOS&quot;</td><td>&quot;Zona Centro&quot;</td><td>&quot;Rechazado&quot;</td><td>2022-12-31</td><td>null</td><td>null</td><td>&quot;Rechazado&quot;</td><td>1376.0</td></tr><tr><td>&quot;WO0000004849379&quot;</td><td>191143</td><td>&quot;NAYLAMP&quot;</td><td>&quot;Zona Centro&quot;</td><td>&quot;Cerrado&quot;</td><td>2022-12-31</td><td>2023-01-28</td><td>&quot;+ 15 dias&quot;</td><td>&quot;Variable&quot;</td><td>422.91</td></tr><tr><td>&quot;WO0000004849379&quot;</td><td>191143</td><td>&quot;NAYLAMP&quot;</td><td>&quot;Zona Centro&quot;</td><td>&quot;Cerrado&quot;</td><td>2022-12-31</td><td>2023-01-28</td><td>&quot;+ 15 dias&quot;</td><td>&quot;Variable&quot;</td><td>422.91</td></tr><tr><td>&quot;WO0000004848638&quot;</td><td>191059</td><td>&quot;VILLA SOL&quot;</td><td>&quot;Zona Centro&quot;</td><td>&quot;Cerrado&quot;</td><td>2022-12-31</td><td>2023-01-03</td><td>&quot;0 a 3 dias&quot;</td><td>&quot;No Definido&quot;</td><td>null</td></tr></tbody></table></div>"
      ],
      "text/plain": [
       "shape: (5, 10)\n",
       "┌────────────┬───────────┬───────────┬────────────┬───┬───────────┬───────────┬───────────┬────────┐\n",
       "│ TicketID   ┆ AgenciaID ┆ Agencia   ┆ Service    ┆ … ┆ Fecha     ┆ Grupo     ┆ Tipo      ┆ Costo  │\n",
       "│ ---        ┆ ---       ┆ ---       ┆ Desk       ┆   ┆ Cierre    ┆ Dias      ┆ Ticket    ┆ ---    │\n",
       "│ str        ┆ i64       ┆ str       ┆ ---        ┆   ┆ ---       ┆ ---       ┆ ---       ┆ f64    │\n",
       "│            ┆           ┆           ┆ str        ┆   ┆ date      ┆ str       ┆ str       ┆        │\n",
       "╞════════════╪═══════════╪═══════════╪════════════╪═══╪═══════════╪═══════════╪═══════════╪════════╡\n",
       "│ WO00000048 ┆ 191108    ┆ TUSILAGOS ┆ Zona       ┆ … ┆ null      ┆ null      ┆ Rechazado ┆ 1376.0 │\n",
       "│ 49307      ┆           ┆           ┆ Centro     ┆   ┆           ┆           ┆           ┆        │\n",
       "│ WO00000048 ┆ 191108    ┆ TUSILAGOS ┆ Zona       ┆ … ┆ null      ┆ null      ┆ Rechazado ┆ 1376.0 │\n",
       "│ 49307      ┆           ┆           ┆ Centro     ┆   ┆           ┆           ┆           ┆        │\n",
       "│ WO00000048 ┆ 191143    ┆ NAYLAMP   ┆ Zona       ┆ … ┆ 2023-01-2 ┆ + 15 dias ┆ Variable  ┆ 422.91 │\n",
       "│ 49379      ┆           ┆           ┆ Centro     ┆   ┆ 8         ┆           ┆           ┆        │\n",
       "│ WO00000048 ┆ 191143    ┆ NAYLAMP   ┆ Zona       ┆ … ┆ 2023-01-2 ┆ + 15 dias ┆ Variable  ┆ 422.91 │\n",
       "│ 49379      ┆           ┆           ┆ Centro     ┆   ┆ 8         ┆           ┆           ┆        │\n",
       "│ WO00000048 ┆ 191059    ┆ VILLA SOL ┆ Zona       ┆ … ┆ 2023-01-0 ┆ 0 a 3     ┆ No        ┆ null   │\n",
       "│ 48638      ┆           ┆           ┆ Centro     ┆   ┆ 3         ┆ dias      ┆ Definido  ┆        │\n",
       "└────────────┴───────────┴───────────┴────────────┴───┴───────────┴───────────┴───────────┴────────┘"
      ]
     },
     "execution_count": 101,
     "metadata": {},
     "output_type": "execute_result"
    }
   ],
   "source": [
    "BaseTotal = Tickets.join(\n",
    "    other=Atenciones,\n",
    "    right_on='Numero Ticket',\n",
    "    left_on='TicketID',\n",
    "    how='inner'\n",
    ").select(\n",
    "    pl.col(['TicketID','AgenciaID','Agencia','Service Desk','Estado','Fecha Creacion','Fecha Cierre','Grupo Dias']),\n",
    "    pl.col('Tipo de Ticket').alias('Tipo Ticket'),\n",
    "    pl.col('Costo Atencion').alias('Costo')\n",
    ")\n",
    "\n",
    "BaseTotal.head()"
   ]
  },
  {
   "cell_type": "code",
   "execution_count": 102,
   "metadata": {},
   "outputs": [
    {
     "data": {
      "text/plain": [
       "<xlsxwriter.workbook.Workbook at 0x14fb0449d00>"
      ]
     },
     "execution_count": 102,
     "metadata": {},
     "output_type": "execute_result"
    }
   ],
   "source": [
    "BaseTotal.write_excel(\n",
    "    workbook='Tickets_Atenciones.xlsx',\n",
    "    autofit=True,\n",
    "    dtype_formats={\n",
    "        pl.Date :\"dd/mm/yyyy\"\n",
    "    },\n",
    "    float_precision=2,\n",
    "    table_style='Table Style Medium 2'\n",
    ")"
   ]
  }
 ],
 "metadata": {
  "kernelspec": {
   "display_name": "vEdicion2",
   "language": "python",
   "name": "python3"
  },
  "language_info": {
   "codemirror_mode": {
    "name": "ipython",
    "version": 3
   },
   "file_extension": ".py",
   "mimetype": "text/x-python",
   "name": "python",
   "nbconvert_exporter": "python",
   "pygments_lexer": "ipython3",
   "version": "3.12.3"
  }
 },
 "nbformat": 4,
 "nbformat_minor": 2
}
